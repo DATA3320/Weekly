{
  "cells": [
    {
      "cell_type": "markdown",
      "metadata": {
        "id": "view-in-github",
        "colab_type": "text"
      },
      "source": [
        "<a href=\"https://colab.research.google.com/github/DATA3320/Weekly/blob/main/Workbooks/Lecture05_workbook.ipynb\" target=\"_parent\"><img src=\"https://colab.research.google.com/assets/colab-badge.svg\" alt=\"Open In Colab\"/></a>"
      ]
    },
    {
      "cell_type": "markdown",
      "metadata": {
        "id": "dM-LIEl0GXRU"
      },
      "source": [
        "# Lecture 5 Student Workbook: Conditions & Loops"
      ]
    },
    {
      "cell_type": "markdown",
      "metadata": {
        "id": "fwILUfA9GXRh"
      },
      "source": [
        "## Part 1: Conditions\n"
      ]
    },
    {
      "cell_type": "markdown",
      "metadata": {
        "id": "hHe2Q66KGXRj"
      },
      "source": [
        "### Problem 1"
      ]
    },
    {
      "cell_type": "markdown",
      "metadata": {
        "id": "jhYQsA2gGXRl"
      },
      "source": [
        "Check if the x is perfect square.  If it is, print \"x is a perfect square\".  If not print \"x is not a perfect square\"."
      ]
    },
    {
      "cell_type": "code",
      "execution_count": null,
      "metadata": {
        "jupyter": {
          "outputs_hidden": false
        },
        "id": "1MJcGRIFGXRm"
      },
      "outputs": [],
      "source": [
        "x = 25\n",
        "#Write your code here\n",
        "\n"
      ]
    },
    {
      "cell_type": "markdown",
      "metadata": {
        "id": "3UFXjcRzGXRq"
      },
      "source": [
        "### Problem 2"
      ]
    },
    {
      "cell_type": "markdown",
      "metadata": {
        "id": "1_lH7THZGXRr"
      },
      "source": [
        "Create a list L of arbitrary length. Get the median.\n"
      ]
    },
    {
      "cell_type": "code",
      "execution_count": null,
      "metadata": {
        "jupyter": {
          "outputs_hidden": false
        },
        "id": "LclX84eRGXRv"
      },
      "outputs": [],
      "source": [
        "L = [213, 123, 21, 2, 12, 3]\n",
        "#Write your code here\n"
      ]
    },
    {
      "cell_type": "markdown",
      "metadata": {
        "id": "80F6qzeuGXRx"
      },
      "source": [
        "### Problem 3"
      ]
    },
    {
      "cell_type": "markdown",
      "metadata": {
        "id": "ied3btH2GXRy"
      },
      "source": [
        "If there are fewer than 10 students in the class, then the top three students get an  A and the rest get a B.  Otherwise, the grade breakdown is as follows:\n",
        "\n",
        "- A: 90-100\n",
        "- B: 80-89\n",
        "- C: 70 - 79\n",
        "- D: 65 - 69\n",
        "- Failing: Below 65\n",
        "\n",
        "Given the list of grades in grades_list, print the grade received by the last student in this list. So if we have\n",
        "\n",
        "    grade_list = [50, 90, 91, 88, 75]\n",
        "\n",
        "we want to print the grade received by the student who received a 75. In this case it would be a B.\n",
        "\n"
      ]
    },
    {
      "cell_type": "code",
      "execution_count": null,
      "metadata": {
        "jupyter": {
          "outputs_hidden": false
        },
        "id": "Zh69hdScGXST"
      },
      "outputs": [],
      "source": [
        "grade_list = [50, 90, 91, 88, 75]\n",
        "#Write your code here"
      ]
    },
    {
      "cell_type": "markdown",
      "metadata": {
        "id": "AgaGNvWeGXSU"
      },
      "source": [
        "### Problem 4"
      ]
    },
    {
      "cell_type": "markdown",
      "metadata": {
        "id": "_r6BzXjOGXSW"
      },
      "source": [
        "Write a Python program that takes a user input and checks if it is a positive integer."
      ]
    },
    {
      "cell_type": "code",
      "execution_count": null,
      "metadata": {
        "id": "BcykP-N3GXSa"
      },
      "outputs": [],
      "source": [
        "user_input = input(\"Enter a positive integer: \")\n",
        "#Write your code here\n"
      ]
    },
    {
      "cell_type": "markdown",
      "metadata": {
        "id": "j0pH20vyGXSc"
      },
      "source": [
        "### Problem 5"
      ]
    },
    {
      "cell_type": "markdown",
      "metadata": {
        "id": "Liqv8ZfoGXSe"
      },
      "source": [
        "Write a Python program that takes two user inputs and checks if they are equal."
      ]
    },
    {
      "cell_type": "code",
      "execution_count": null,
      "metadata": {
        "id": "Bzl3677gGXSl"
      },
      "outputs": [],
      "source": [
        "user_input_1 = input(\"Enter the first value: \")\n",
        "user_input_2 = input(\"Enter the second value: \")\n",
        "\n",
        "#Write your code here\n"
      ]
    },
    {
      "cell_type": "markdown",
      "metadata": {
        "id": "EctZUT9MGXSn"
      },
      "source": [
        "## Part 2: Loops\n"
      ]
    },
    {
      "cell_type": "markdown",
      "metadata": {
        "id": "4Hh9EkPrGXSo"
      },
      "source": [
        "### Problem 6"
      ]
    },
    {
      "cell_type": "markdown",
      "metadata": {
        "id": "l__L3vcxGXSp"
      },
      "source": [
        "Write a Python program that prints the first 10 even numbers."
      ]
    },
    {
      "cell_type": "code",
      "execution_count": null,
      "metadata": {
        "id": "cLfsNjXfGXSq"
      },
      "outputs": [],
      "source": []
    },
    {
      "cell_type": "markdown",
      "metadata": {
        "id": "t5zJ6MSGGXSq"
      },
      "source": [
        "### Problem 7"
      ]
    },
    {
      "cell_type": "markdown",
      "metadata": {
        "id": "AtjRUKvzGXSr"
      },
      "source": [
        "Write a Python program that takes a user input and prints all the even numbers between 0 and the user input."
      ]
    },
    {
      "cell_type": "code",
      "execution_count": null,
      "metadata": {
        "id": "DN-RciqmGXSs"
      },
      "outputs": [],
      "source": [
        "user_input = int(input(\"Enter a positive integer: \"))\n",
        "\n",
        "#Write your code here\n"
      ]
    },
    {
      "cell_type": "markdown",
      "metadata": {
        "id": "GodAevndGXSs"
      },
      "source": [
        "### Problem 8"
      ]
    },
    {
      "cell_type": "markdown",
      "metadata": {
        "id": "euLpgZBFGXSt"
      },
      "source": [
        "Count the number of n's in your name (lower and uppercase count)"
      ]
    },
    {
      "cell_type": "code",
      "execution_count": null,
      "metadata": {
        "jupyter": {
          "outputs_hidden": false
        },
        "id": "0CSYpf-IGXSu"
      },
      "outputs": [],
      "source": [
        "#Write your code here\n",
        "name = \n",
        "\n"
      ]
    },
    {
      "cell_type": "markdown",
      "metadata": {
        "id": "92LUbaELGXSu"
      },
      "source": [
        "### Problem 9"
      ]
    },
    {
      "cell_type": "markdown",
      "metadata": {
        "id": "NO60LO9LGXSv"
      },
      "source": [
        "Get all of the factors of a number and store them in a list"
      ]
    },
    {
      "cell_type": "code",
      "execution_count": null,
      "metadata": {
        "jupyter": {
          "outputs_hidden": false
        },
        "id": "7cWtx1RgGXSw"
      },
      "outputs": [],
      "source": [
        "#Write your code here\n"
      ]
    },
    {
      "cell_type": "markdown",
      "metadata": {
        "id": "EpLbWomMGXSz"
      },
      "source": [
        "### Problem 10"
      ]
    },
    {
      "cell_type": "markdown",
      "metadata": {
        "id": "6PSZU8P_GXS2"
      },
      "source": [
        "Generate the first N numbers of the [Fibonacci sequence](https://en.wikipedia.org/wiki/Fibonacci_sequence) where \n",
        "\n",
        "$a_0 = 1$\n",
        "\n",
        "$a_1=1$\n",
        "\n",
        "$a_n = a_{n-1} + a_{n-2}$"
      ]
    },
    {
      "cell_type": "code",
      "execution_count": null,
      "metadata": {
        "jupyter": {
          "outputs_hidden": false
        },
        "id": "02SbSMQlGXS2"
      },
      "outputs": [],
      "source": [
        "#Write your code here\n"
      ]
    },
    {
      "cell_type": "markdown",
      "metadata": {
        "id": "8SOL3IrlGXS3"
      },
      "source": [
        "### Problem 11"
      ]
    },
    {
      "cell_type": "markdown",
      "metadata": {
        "id": "qrjImzcrGXS3"
      },
      "source": [
        "Write a Python program that generates a random number between 1 and 100 and asks the user to guess it. The program should keep asking for guesses until the user correctly guesses the number."
      ]
    },
    {
      "cell_type": "code",
      "execution_count": null,
      "metadata": {
        "id": "isBRk5OvGXS4"
      },
      "outputs": [],
      "source": [
        "import random\n",
        "\n",
        "number = random.randint(1, 100)\n",
        "\n",
        "#Write your code here\n"
      ]
    },
    {
      "cell_type": "markdown",
      "metadata": {
        "id": "2bWmHMJdGXS5"
      },
      "source": [
        "### Problem 12"
      ]
    },
    {
      "cell_type": "markdown",
      "metadata": {
        "id": "WgvkP3u8GXS5"
      },
      "source": [
        "Write a Python program that takes a decimal number from the user and converts it to binary using a while loop."
      ]
    },
    {
      "cell_type": "code",
      "execution_count": null,
      "metadata": {
        "id": "UBiTmXYcGXS6"
      },
      "outputs": [],
      "source": [
        "decimal = int(input(\"Enter a decimal number: \"))\n",
        "\n",
        "#Write your code here\n"
      ]
    },
    {
      "cell_type": "code",
      "execution_count": null,
      "metadata": {
        "id": "sknv6MoVGXS7"
      },
      "outputs": [],
      "source": []
    }
  ],
  "metadata": {
    "kernelspec": {
      "display_name": "Python 3 (ipykernel)",
      "language": "python",
      "name": "python3"
    },
    "language_info": {
      "codemirror_mode": {
        "name": "ipython",
        "version": 3
      },
      "file_extension": ".py",
      "mimetype": "text/x-python",
      "name": "python",
      "nbconvert_exporter": "python",
      "pygments_lexer": "ipython3",
      "version": "3.8.16"
    },
    "toc": {
      "nav_menu": {
        "height": "48px",
        "width": "252px"
      },
      "number_sections": true,
      "sideBar": true,
      "skip_h1_title": false,
      "toc_cell": false,
      "toc_position": {},
      "toc_section_display": "block",
      "toc_window_display": false
    },
    "colab": {
      "provenance": [],
      "include_colab_link": true
    }
  },
  "nbformat": 4,
  "nbformat_minor": 0
}