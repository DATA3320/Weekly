{
  "cells": [
    {
      "cell_type": "markdown",
      "metadata": {
        "id": "view-in-github",
        "colab_type": "text"
      },
      "source": [
        "<a href=\"https://colab.research.google.com/github/DATA3320/Weekly/blob/main/Workbooks/Lecture06_workbook.ipynb\" target=\"_parent\"><img src=\"https://colab.research.google.com/assets/colab-badge.svg\" alt=\"Open In Colab\"/></a>"
      ]
    },
    {
      "cell_type": "markdown",
      "metadata": {
        "id": "o07JpJA3HDqe"
      },
      "source": [
        "# Lecture 6 Student Workbook: Numpy"
      ]
    },
    {
      "cell_type": "markdown",
      "metadata": {
        "id": "EGebMnk0HDqj"
      },
      "source": [
        "###  Problem 1."
      ]
    },
    {
      "cell_type": "markdown",
      "metadata": {
        "id": "19YsPPrOHDqk"
      },
      "source": [
        "Import numpy under the alias `np`."
      ]
    },
    {
      "cell_type": "code",
      "execution_count": null,
      "metadata": {
        "id": "73vu07I8HDqk"
      },
      "outputs": [],
      "source": [
        "# Your answer here."
      ]
    },
    {
      "cell_type": "markdown",
      "metadata": {
        "id": "pvZObbg5HDqn"
      },
      "source": [
        "### Problem 2."
      ]
    },
    {
      "cell_type": "markdown",
      "metadata": {
        "id": "2V4EAw9nHDqn"
      },
      "source": [
        "Create the following arrays:\n",
        "\n",
        "1. Create an array of 5 zeros.\n",
        "2. Create an array of 10 ones.\n",
        "3. Create an array of 5 3.141s.\n",
        "4. Create an array of the integers 1 to 20.\n",
        "5. Create a 5 x 5 matrix of ones with a dtype `int`."
      ]
    },
    {
      "cell_type": "code",
      "execution_count": null,
      "metadata": {
        "id": "bVGjeiNRHDqo"
      },
      "outputs": [],
      "source": [
        "# Your answer here."
      ]
    },
    {
      "cell_type": "markdown",
      "metadata": {
        "id": "Fcxv_ZP7HDqo"
      },
      "source": [
        "### Problem 3."
      ]
    },
    {
      "cell_type": "markdown",
      "metadata": {
        "id": "A8kbSCfeHDqp"
      },
      "source": [
        "Use numpy to:\n",
        "1. Create an 3D matrix of 3 x 3 x 3 full of random numbers drawn from a standard normal distribution (hint: `np.random.randn()`)\n",
        "2. Reshape the above array into shape (27,)"
      ]
    },
    {
      "cell_type": "code",
      "execution_count": null,
      "metadata": {
        "id": "DA8ykza-HDqp"
      },
      "outputs": [],
      "source": [
        "# Your answer here."
      ]
    },
    {
      "cell_type": "markdown",
      "metadata": {
        "id": "5r3QlLUIHDqq"
      },
      "source": [
        "### Problem 4."
      ]
    },
    {
      "cell_type": "markdown",
      "metadata": {
        "id": "hdhRrmNbHDqr"
      },
      "source": [
        "Mixing types (Strings, Numbers, Booleans).  Make an array of multiple types:"
      ]
    },
    {
      "cell_type": "code",
      "execution_count": null,
      "metadata": {
        "id": "R2BuxSCrHDqs"
      },
      "outputs": [],
      "source": [
        "# Your answer here.\n"
      ]
    },
    {
      "cell_type": "markdown",
      "metadata": {
        "id": "h0Ia8YqTHDqs"
      },
      "source": [
        "### Problem 5."
      ]
    },
    {
      "cell_type": "markdown",
      "metadata": {
        "id": "WBPPliuVHDqs"
      },
      "source": [
        "Run the following code to create an array of shape 4 x 4 and then use indexing to produce the outputs shown below."
      ]
    },
    {
      "cell_type": "code",
      "execution_count": null,
      "metadata": {
        "id": "1nOd7buFHDqt"
      },
      "outputs": [],
      "source": [
        "import numpy as np\n",
        "a = np.arange(1, 26).reshape(5, -1)"
      ]
    },
    {
      "cell_type": "markdown",
      "metadata": {
        "id": "CKphbtZVHDqt"
      },
      "source": [
        "```python\n",
        "20\n",
        "```"
      ]
    },
    {
      "cell_type": "code",
      "execution_count": null,
      "metadata": {
        "id": "ImMYB-5FHDqu"
      },
      "outputs": [],
      "source": [
        "# Your answer here."
      ]
    },
    {
      "cell_type": "markdown",
      "metadata": {
        "id": "VFOTqV8aHDqu"
      },
      "source": [
        "```python\n",
        "array([[ 9, 10],\n",
        "       [14, 15],\n",
        "       [19, 20],\n",
        "       [24, 25]])\n",
        "```"
      ]
    },
    {
      "cell_type": "code",
      "execution_count": null,
      "metadata": {
        "id": "i3bPfer2HDqv"
      },
      "outputs": [],
      "source": [
        "# Your answer here."
      ]
    },
    {
      "cell_type": "markdown",
      "metadata": {
        "id": "Uy0B5q8yHDqv"
      },
      "source": [
        "```python\n",
        "array([ 6,  7,  8,  9, 10])\n",
        "```"
      ]
    },
    {
      "cell_type": "code",
      "execution_count": null,
      "metadata": {
        "id": "WnaKKh8THDqv"
      },
      "outputs": [],
      "source": [
        "# Your answer here."
      ]
    },
    {
      "cell_type": "markdown",
      "metadata": {
        "id": "Htlz_XH3HDqw"
      },
      "source": [
        "```python\n",
        "array([[11, 12, 13, 14, 15],\n",
        "       [16, 17, 18, 19, 20]])\n",
        "```"
      ]
    },
    {
      "cell_type": "code",
      "execution_count": null,
      "metadata": {
        "id": "5PQ4zFOvHDqw"
      },
      "outputs": [],
      "source": [
        "# Your answer here."
      ]
    },
    {
      "cell_type": "markdown",
      "metadata": {
        "id": "gVbqbWMEHDqw"
      },
      "source": [
        "```python\n",
        "array([[ 8,  9],\n",
        "       [13, 14]])\n",
        "```"
      ]
    },
    {
      "cell_type": "code",
      "execution_count": null,
      "metadata": {
        "id": "ENkR1UeCHDqx"
      },
      "outputs": [],
      "source": [
        "# Your answer here."
      ]
    },
    {
      "cell_type": "markdown",
      "metadata": {
        "id": "ZL2qAO5mHDqx"
      },
      "source": [
        "### Problem 6."
      ]
    },
    {
      "cell_type": "markdown",
      "metadata": {
        "id": "o0prmoHiHDqx"
      },
      "source": [
        "Calculate the sum of all the numbers in `a`."
      ]
    },
    {
      "cell_type": "code",
      "execution_count": null,
      "metadata": {
        "id": "nJ8ReeHMHDqy"
      },
      "outputs": [],
      "source": [
        "# Your answer here."
      ]
    },
    {
      "cell_type": "markdown",
      "metadata": {
        "id": "doCGfeymHDqy"
      },
      "source": [
        "### Problem 7."
      ]
    },
    {
      "cell_type": "markdown",
      "metadata": {
        "id": "HQ-PjvJRHDqy"
      },
      "source": [
        "Calculate the sum of each row in `a`."
      ]
    },
    {
      "cell_type": "code",
      "execution_count": null,
      "metadata": {
        "id": "sh1JDmKHHDqy"
      },
      "outputs": [],
      "source": [
        "# Your answer here."
      ]
    },
    {
      "cell_type": "markdown",
      "metadata": {
        "id": "9oRMro-4HDqz"
      },
      "source": [
        "### Problem 8."
      ]
    },
    {
      "cell_type": "markdown",
      "metadata": {
        "id": "8K-qU_5ZHDqz"
      },
      "source": [
        "Extract all values of `a` greater than the mean of `a` (hint: use a boolean mask)."
      ]
    },
    {
      "cell_type": "code",
      "execution_count": null,
      "metadata": {
        "id": "dtIszFHhHDqz"
      },
      "outputs": [],
      "source": [
        "# Your answer here."
      ]
    },
    {
      "cell_type": "markdown",
      "metadata": {
        "id": "rng1pbTyHDq0"
      },
      "source": [
        "### Problem 9."
      ]
    },
    {
      "cell_type": "markdown",
      "metadata": {
        "id": "U00Y8uTYHDq0"
      },
      "source": [
        "Find the location of the minimum value in the following array `b`:"
      ]
    },
    {
      "cell_type": "code",
      "execution_count": null,
      "metadata": {
        "id": "zQB1QajFHDq0",
        "outputId": "878e9d3a-608c-46df-8925-f8efa32fe4db"
      },
      "outputs": [
        {
          "data": {
            "text/plain": [
              "array([-1.0856306 ,  0.99734545,  0.2829785 , -1.50629471, -0.57860025,\n",
              "        1.65143654, -2.42667924, -0.42891263,  1.26593626, -0.8667404 ])"
            ]
          },
          "execution_count": 14,
          "metadata": {},
          "output_type": "execute_result"
        }
      ],
      "source": [
        "np.random.seed(123)\n",
        "b = np.random.randn(10)\n",
        "b"
      ]
    },
    {
      "cell_type": "code",
      "execution_count": null,
      "metadata": {
        "id": "2abmftV9HDq2"
      },
      "outputs": [],
      "source": [
        "# Your answer here."
      ]
    },
    {
      "cell_type": "markdown",
      "metadata": {
        "id": "AVPX47JXHDq3"
      },
      "source": [
        "### Problem 10."
      ]
    },
    {
      "cell_type": "markdown",
      "metadata": {
        "id": "EF_qfN6hHDq3"
      },
      "source": [
        "You have a dataset containing the test scores of 50 students in 5 subjects - Math, Physics, Chemistry, English, and Biology. Each student's scores are stored in a NumPy array of shape (5,). Write a program to perform the following tasks:\n",
        "\n",
        "- 1. Create a 2-dimensional NumPy array of shape (50, 5) containing the scores of all the students.\n",
        "- 2. Calculate the average scores of each student and store them in a 1-dimensional NumPy array of shape (50,).\n",
        "- 3. Calculate the average score of each subject and store them in a 1-dimensional NumPy array of shape (5,).\n",
        "- 4. Find the student who has the highest average score.\n",
        "- 5. Print the average score of each subject and the highest average score of a student."
      ]
    },
    {
      "cell_type": "code",
      "execution_count": null,
      "metadata": {
        "id": "fA7QPHWLHDq4"
      },
      "outputs": [],
      "source": [
        "# Your answer here."
      ]
    }
  ],
  "metadata": {
    "kernelspec": {
      "display_name": "Python 3 (ipykernel)",
      "language": "python",
      "name": "python3"
    },
    "language_info": {
      "codemirror_mode": {
        "name": "ipython",
        "version": 3
      },
      "file_extension": ".py",
      "mimetype": "text/x-python",
      "name": "python",
      "nbconvert_exporter": "python",
      "pygments_lexer": "ipython3",
      "version": "3.8.16"
    },
    "colab": {
      "provenance": [],
      "include_colab_link": true
    }
  },
  "nbformat": 4,
  "nbformat_minor": 0
}